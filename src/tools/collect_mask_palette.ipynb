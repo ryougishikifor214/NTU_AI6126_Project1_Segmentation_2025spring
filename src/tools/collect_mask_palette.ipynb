{
 "cells": [
  {
   "cell_type": "code",
   "execution_count": null,
   "metadata": {},
   "outputs": [],
   "source": [
    "import sys\n",
    "sys.path.append(\"..\")"
   ]
  },
  {
   "cell_type": "code",
   "execution_count": 2,
   "metadata": {},
   "outputs": [],
   "source": [
    "from PIL import Image\n",
    "import os\n",
    "import numpy as np\n",
    "from tqdm import tqdm\n",
    "import pandas as pd\n",
    "from global_config import ORIGIN_ANNO_DIR_PATH"
   ]
  },
  {
   "cell_type": "code",
   "execution_count": 3,
   "metadata": {},
   "outputs": [
    {
     "data": {
      "text/plain": [
       "'P'"
      ]
     },
     "execution_count": 3,
     "metadata": {},
     "output_type": "execute_result"
    }
   ],
   "source": [
    "img_path = os.path.join(ORIGIN_ANNO_DIR_PATH, \"0a7dc1408cd24b5fbb3ea81fbf108d38.png\")\n",
    "img = Image.open(img_path)\n",
    "img.mode"
   ]
  },
  {
   "cell_type": "code",
   "execution_count": 4,
   "metadata": {},
   "outputs": [
    {
     "data": {
      "text/plain": [
       "((512, 512),\n",
       " array([[ 0,  0,  0, ...,  0,  0,  0],\n",
       "        [ 0,  0,  0, ...,  0,  0,  0],\n",
       "        [ 0,  0,  0, ...,  0,  0,  0],\n",
       "        ...,\n",
       "        [18, 18, 18, ...,  0,  0,  0],\n",
       "        [18, 18, 18, ...,  0,  0,  0],\n",
       "        [18, 18, 18, ...,  0,  0,  0]], dtype=uint8),\n",
       " array([ 0,  1,  2,  4,  5,  6,  7, 10, 11, 12, 13, 14, 17, 18],\n",
       "       dtype=uint8))"
      ]
     },
     "execution_count": 4,
     "metadata": {},
     "output_type": "execute_result"
    }
   ],
   "source": [
    "img_arr = np.array(img)\n",
    "img_arr.shape, img_arr, np.unique(img_arr)"
   ]
  },
  {
   "cell_type": "code",
   "execution_count": 5,
   "metadata": {},
   "outputs": [
    {
     "data": {
      "image/png": "[encoded data removed]",
      "text/plain": [
       "<PIL.PngImagePlugin.PngImageFile image mode=P size=512x512 at 0x7FE886C4C8D0>"
      ]
     },
     "execution_count": 5,
     "metadata": {},
     "output_type": "execute_result"
    }
   ],
   "source": [
    "img"
   ]
  },
  {
   "cell_type": "code",
   "execution_count": 8,
   "metadata": {},
   "outputs": [
    {
     "data": {
      "text/plain": [
       "(768,\n",
       " list,\n",
       " array([[  0,   0,   0],\n",
       "        [204,   0,   0],\n",
       "        [ 76, 153,   0],\n",
       "        [204, 204,   0],\n",
       "        [ 51,  51, 255],\n",
       "        [204,   0, 204],\n",
       "        [  0, 255, 255],\n",
       "        [255, 204, 204],\n",
       "        [102,  51,   0],\n",
       "        [255,   0,   0],\n",
       "        [102, 204,   0],\n",
       "        [255, 255,   0],\n",
       "        [  0,   0, 153],\n",
       "        [  0,   0, 204],\n",
       "        [255,  51, 153],\n",
       "        [  0, 204, 204],\n",
       "        [  0,  51,   0],\n",
       "        [255, 153,  51],\n",
       "        [  0, 204,   0]]))"
      ]
     },
     "execution_count": 8,
     "metadata": {},
     "output_type": "execute_result"
    }
   ],
   "source": [
    "palette = img.getpalette()\n",
    "len(palette), type(palette), np.array(palette[0:57]).reshape(-1, 3)"
   ]
  }
 ],
 "metadata": {
  "kernelspec": {
   "display_name": "base",
   "language": "python",
   "name": "python3"
  },
  "language_info": {
   "codemirror_mode": {
    "name": "ipython",
    "version": 3
   },
   "file_extension": ".py",
   "mimetype": "text/x-python",
   "name": "python",
   "nbconvert_exporter": "python",
   "pygments_lexer": "ipython3",
   "version": "3.7.10"
  }
 },
 "nbformat": 4,
 "nbformat_minor": 2
}
