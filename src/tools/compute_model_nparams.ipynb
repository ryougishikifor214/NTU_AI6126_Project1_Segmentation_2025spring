{
 "cells": [
  {
   "cell_type": "code",
   "execution_count": 13,
   "metadata": {},
   "outputs": [],
   "source": [
    "import os\n",
    "import sys\n",
    "sys.path.append(\"..\")"
   ]
  },
  {
   "cell_type": "code",
   "execution_count": 14,
   "metadata": {},
   "outputs": [
    {
     "data": {
      "text/plain": [
       "'/home/featurize/work/AI6126project1/mmsegmentation/tools/analysis_tools'"
      ]
     },
     "execution_count": 14,
     "metadata": {},
     "output_type": "execute_result"
    }
   ],
   "source": [
    "from global_config import *\n",
    "\n",
    "sys.path.append(\n",
    "    os.path.join(MMSEG_DIR_PATH, \"tools\", \"analysis_tools\")\n",
    ")\n",
    "sys.path[-1]"
   ]
  },
  {
   "cell_type": "code",
   "execution_count": 15,
   "metadata": {},
   "outputs": [
    {
     "name": "stderr",
     "output_type": "stream",
     "text": [
      "/home/featurize/work/.local/lib/python3.7/site-packages/mmengine/utils/manager.py:114: UserWarning: <class 'mmengine.logging.logger.MMLogger'> instance named of MMLogger has been created, the method `get_instance` should not accept any other arguments\n",
      "  f'{cls} instance named of {name} has been created, '\n"
     ]
    }
   ],
   "source": [
    "from get_flops import inference\n",
    "from mmengine.logging import MMLogger\n",
    "\n",
    "logger = MMLogger.get_instance(name='MMLogger', log_level=\"ERROR\")"
   ]
  },
  {
   "cell_type": "code",
   "execution_count": 16,
   "metadata": {},
   "outputs": [],
   "source": [
    "# from pathlib import Path\n",
    "# mmseg_configs_root_path = Path(MMSEG_MODEL_CONFIG_DIR_PATH)\n",
    "\n",
    "# subfolders = [p.name for p in mmseg_configs_root_path.iterdir() if p.is_dir()]\n",
    "# verified_subfolders = ['resnest', 'icnet', 'gcnet', 'hrnet', 'stdc', 'setr', 'ddrnet', 'twins', 'emanet', 'dnlnet', 'dpt', 'fastscnn', 'deeplabv3plus', 'dmnet', 'mobilenet_v3', 'dsdl', 'knet', 'apcnet', 'segnext', 'fastfcn', 'isanet', 'upernet', 'sem_fpn', 'psanet', 'unet', 'cgnet', 'bisenetv2', 'erfnet', 'pidnet']\n",
    "# removed_subfolders = [\"maskformer\", \"mask2former\", \"point_rend\", \"convnext\", \"beit\", \"poolformer\", \"ocrnet\", \"vpd\", \"_base_\"]\n",
    "\n",
    "# remaining_subfolders = list(set(subfolders) - set(verified_subfolders)-set(removed_subfolders))\n",
    "# subfolders, remaining_subfolders"
   ]
  },
  {
   "cell_type": "markdown",
   "metadata": {},
   "source": [
    "## model config file path"
   ]
  },
  {
   "cell_type": "code",
   "execution_count": 17,
   "metadata": {},
   "outputs": [
    {
     "data": {
      "text/plain": [
       "('/home/featurize/work/AI6126project1/out/bisenetv2_fcn/20250326_094633/vis_data/config.py',\n",
       " '/home/featurize/work/AI6126project1/out/bisenetv2_fcn/20250326_094633/best_mFscore_iter_16000.pth')"
      ]
     },
     "execution_count": 17,
     "metadata": {},
     "output_type": "execute_result"
    }
   ],
   "source": [
    "model = \"fastscnn.pth\"\n",
    "model = \"mobilnetv3_lraspp.pth\"\n",
    "model =  \"bisenetv2_fcn.pth\"\n",
    "\n",
    "config_path = CKPT_CONFIG_LOOKUPS[model][\"config\"]\n",
    "checkpoint_path = CKPT_CONFIG_LOOKUPS[model][\"checkpoint\"]\n",
    "shape = 512\n",
    "config_path, checkpoint_path"
   ]
  },
  {
   "cell_type": "code",
   "execution_count": 18,
   "metadata": {},
   "outputs": [],
   "source": [
    "import argparse\n",
    "def parse_args(arg_list):\n",
    "    parser = argparse.ArgumentParser(description='Get the FLOPs of a segmentor')\n",
    "    parser.add_argument('config', help='train config file path')\n",
    "    parser.add_argument(\n",
    "        '--shape',\n",
    "        type=int,\n",
    "        nargs='+',\n",
    "        default=[2048, 1024],\n",
    "        help='input image size'\n",
    "    )\n",
    "    parser.add_argument(\n",
    "        '--cfg-options',\n",
    "        nargs='+',\n",
    "        help='override some settings in the used config'\n",
    "    )\n",
    "\n",
    "    return parser.parse_args(arg_list)"
   ]
  },
  {
   "cell_type": "markdown",
   "metadata": {},
   "source": [
    "## nparams result"
   ]
  },
  {
   "cell_type": "code",
   "execution_count": 19,
   "metadata": {},
   "outputs": [
    {
     "data": {
      "text/plain": [
       "('1.792M', '6.024G')"
      ]
     },
     "execution_count": 19,
     "metadata": {},
     "output_type": "execute_result"
    }
   ],
   "source": [
    "arg_list = [\n",
    "    config_path,\n",
    "    \"--shape\",\n",
    "    str(shape),\n",
    "    # str(shape),\n",
    "]\n",
    "args = parse_args(arg_list)\n",
    "#args\n",
    "result = inference(args, logger)\n",
    "params = result[\"params\"]\n",
    "flops = result[\"flops\"]\n",
    "params, flops"
   ]
  },
  {
   "cell_type": "code",
   "execution_count": 20,
   "metadata": {},
   "outputs": [
    {
     "name": "stderr",
     "output_type": "stream",
     "text": [
      "/home/featurize/work/AI6126project1/mmsegmentation/mmseg/models/builder.py:36: UserWarning: ``build_loss`` would be deprecated soon, please use ``mmseg.registry.MODELS.build()`` \n",
      "  warnings.warn('``build_loss`` would be deprecated soon, please use '\n",
      "/home/featurize/work/AI6126project1/mmsegmentation/mmseg/models/losses/cross_entropy_loss.py:236: UserWarning: Default ``avg_non_ignore`` is False, if you would like to ignore the certain label and average loss over non-ignore labels, which is the same with PyTorch official cross_entropy, set ``avg_non_ignore=True``.\n",
      "  'Default ``avg_non_ignore`` is False, if you would like to '\n"
     ]
    },
    {
     "name": "stdout",
     "output_type": "stream",
     "text": [
      "Loads checkpoint by local backend from path: /home/featurize/work/AI6126project1/out/bisenetv2_fcn/20250326_094633/best_mFscore_iter_16000.pth\n"
     ]
    }
   ],
   "source": [
    "from mmseg.apis import init_model\n",
    "model = init_model(config_path, checkpoint_path, device=\"cuda:0\")"
   ]
  },
  {
   "cell_type": "code",
   "execution_count": 21,
   "metadata": {},
   "outputs": [
    {
     "name": "stdout",
     "output_type": "stream",
     "text": [
      "----------------------------------------------------------------\n",
      "        Layer (type)               Output Shape         Param #\n",
      "================================================================\n",
      "            Conv2d-1         [-1, 32, 256, 256]             864\n",
      "       BatchNorm2d-2         [-1, 32, 256, 256]              64\n",
      "              ReLU-3         [-1, 32, 256, 256]               0\n",
      "        ConvModule-4         [-1, 32, 256, 256]               0\n",
      "            Conv2d-5         [-1, 32, 256, 256]           9,216\n",
      "       BatchNorm2d-6         [-1, 32, 256, 256]              64\n",
      "              ReLU-7         [-1, 32, 256, 256]               0\n",
      "        ConvModule-8         [-1, 32, 256, 256]               0\n",
      "            Conv2d-9         [-1, 64, 128, 128]          18,432\n",
      "      BatchNorm2d-10         [-1, 64, 128, 128]             128\n",
      "             ReLU-11         [-1, 64, 128, 128]               0\n",
      "       ConvModule-12         [-1, 64, 128, 128]               0\n",
      "           Conv2d-13         [-1, 64, 128, 128]          36,864\n",
      "      BatchNorm2d-14         [-1, 64, 128, 128]             128\n",
      "             ReLU-15         [-1, 64, 128, 128]               0\n",
      "       ConvModule-16         [-1, 64, 128, 128]               0\n",
      "           Conv2d-17         [-1, 64, 128, 128]          36,864\n",
      "      BatchNorm2d-18         [-1, 64, 128, 128]             128\n",
      "             ReLU-19         [-1, 64, 128, 128]               0\n",
      "       ConvModule-20         [-1, 64, 128, 128]               0\n",
      "           Conv2d-21           [-1, 96, 64, 64]          55,296\n",
      "      BatchNorm2d-22           [-1, 96, 64, 64]             192\n",
      "             ReLU-23           [-1, 96, 64, 64]               0\n",
      "       ConvModule-24           [-1, 96, 64, 64]               0\n",
      "           Conv2d-25           [-1, 96, 64, 64]          82,944\n",
      "      BatchNorm2d-26           [-1, 96, 64, 64]             192\n",
      "             ReLU-27           [-1, 96, 64, 64]               0\n",
      "       ConvModule-28           [-1, 96, 64, 64]               0\n",
      "           Conv2d-29           [-1, 96, 64, 64]          82,944\n",
      "      BatchNorm2d-30           [-1, 96, 64, 64]             192\n",
      "             ReLU-31           [-1, 96, 64, 64]               0\n",
      "       ConvModule-32           [-1, 96, 64, 64]               0\n",
      "     DetailBranch-33           [-1, 96, 64, 64]               0\n",
      "           Conv2d-34         [-1, 16, 256, 256]             432\n",
      "      BatchNorm2d-35         [-1, 16, 256, 256]              32\n",
      "             ReLU-36         [-1, 16, 256, 256]               0\n",
      "       ConvModule-37         [-1, 16, 256, 256]               0\n",
      "           Conv2d-38          [-1, 8, 256, 256]             128\n",
      "      BatchNorm2d-39          [-1, 8, 256, 256]              16\n",
      "             ReLU-40          [-1, 8, 256, 256]               0\n",
      "       ConvModule-41          [-1, 8, 256, 256]               0\n",
      "           Conv2d-42         [-1, 16, 128, 128]           1,152\n",
      "      BatchNorm2d-43         [-1, 16, 128, 128]              32\n",
      "             ReLU-44         [-1, 16, 128, 128]               0\n",
      "       ConvModule-45         [-1, 16, 128, 128]               0\n",
      "        MaxPool2d-46         [-1, 16, 128, 128]               0\n",
      "           Conv2d-47         [-1, 16, 128, 128]           4,608\n",
      "      BatchNorm2d-48         [-1, 16, 128, 128]              32\n",
      "             ReLU-49         [-1, 16, 128, 128]               0\n",
      "       ConvModule-50         [-1, 16, 128, 128]               0\n",
      "        StemBlock-51         [-1, 16, 128, 128]               0\n",
      "           Conv2d-52         [-1, 16, 128, 128]           2,304\n",
      "      BatchNorm2d-53         [-1, 16, 128, 128]              32\n",
      "             ReLU-54         [-1, 16, 128, 128]               0\n",
      "       ConvModule-55         [-1, 16, 128, 128]               0\n",
      "           Conv2d-56           [-1, 96, 64, 64]             864\n",
      "      BatchNorm2d-57           [-1, 96, 64, 64]             192\n",
      "       ConvModule-58           [-1, 96, 64, 64]               0\n",
      "           Conv2d-59           [-1, 96, 64, 64]             864\n",
      "      BatchNorm2d-60           [-1, 96, 64, 64]             192\n",
      "             ReLU-61           [-1, 96, 64, 64]               0\n",
      "       ConvModule-62           [-1, 96, 64, 64]               0\n",
      "           Conv2d-63           [-1, 32, 64, 64]           3,072\n",
      "      BatchNorm2d-64           [-1, 32, 64, 64]              64\n",
      "       ConvModule-65           [-1, 32, 64, 64]               0\n",
      "           Conv2d-66           [-1, 16, 64, 64]             144\n",
      "      BatchNorm2d-67           [-1, 16, 64, 64]              32\n",
      "       ConvModule-68           [-1, 16, 64, 64]               0\n",
      "           Conv2d-69           [-1, 32, 64, 64]             512\n",
      "      BatchNorm2d-70           [-1, 32, 64, 64]              64\n",
      "       ConvModule-71           [-1, 32, 64, 64]               0\n",
      "DepthwiseSeparableConvModule-72           [-1, 32, 64, 64]               0\n",
      "             ReLU-73           [-1, 32, 64, 64]               0\n",
      "          GELayer-74           [-1, 32, 64, 64]               0\n",
      "           Conv2d-75           [-1, 32, 64, 64]           9,216\n",
      "      BatchNorm2d-76           [-1, 32, 64, 64]              64\n",
      "             ReLU-77           [-1, 32, 64, 64]               0\n",
      "       ConvModule-78           [-1, 32, 64, 64]               0\n",
      "           Conv2d-79          [-1, 192, 64, 64]           1,728\n",
      "      BatchNorm2d-80          [-1, 192, 64, 64]             384\n",
      "             ReLU-81          [-1, 192, 64, 64]               0\n",
      "       ConvModule-82          [-1, 192, 64, 64]               0\n",
      "           Conv2d-83           [-1, 32, 64, 64]           6,144\n",
      "      BatchNorm2d-84           [-1, 32, 64, 64]              64\n",
      "       ConvModule-85           [-1, 32, 64, 64]               0\n",
      "             ReLU-86           [-1, 32, 64, 64]               0\n",
      "          GELayer-87           [-1, 32, 64, 64]               0\n",
      "           Conv2d-88           [-1, 32, 64, 64]           9,216\n",
      "      BatchNorm2d-89           [-1, 32, 64, 64]              64\n",
      "             ReLU-90           [-1, 32, 64, 64]               0\n",
      "       ConvModule-91           [-1, 32, 64, 64]               0\n",
      "           Conv2d-92          [-1, 192, 32, 32]           1,728\n",
      "      BatchNorm2d-93          [-1, 192, 32, 32]             384\n",
      "       ConvModule-94          [-1, 192, 32, 32]               0\n",
      "           Conv2d-95          [-1, 192, 32, 32]           1,728\n",
      "      BatchNorm2d-96          [-1, 192, 32, 32]             384\n",
      "             ReLU-97          [-1, 192, 32, 32]               0\n",
      "       ConvModule-98          [-1, 192, 32, 32]               0\n",
      "           Conv2d-99           [-1, 64, 32, 32]          12,288\n",
      "     BatchNorm2d-100           [-1, 64, 32, 32]             128\n",
      "      ConvModule-101           [-1, 64, 32, 32]               0\n",
      "          Conv2d-102           [-1, 32, 32, 32]             288\n",
      "     BatchNorm2d-103           [-1, 32, 32, 32]              64\n",
      "      ConvModule-104           [-1, 32, 32, 32]               0\n",
      "          Conv2d-105           [-1, 64, 32, 32]           2,048\n",
      "     BatchNorm2d-106           [-1, 64, 32, 32]             128\n",
      "      ConvModule-107           [-1, 64, 32, 32]               0\n",
      "DepthwiseSeparableConvModule-108           [-1, 64, 32, 32]               0\n",
      "            ReLU-109           [-1, 64, 32, 32]               0\n",
      "         GELayer-110           [-1, 64, 32, 32]               0\n",
      "          Conv2d-111           [-1, 64, 32, 32]          36,864\n",
      "     BatchNorm2d-112           [-1, 64, 32, 32]             128\n",
      "            ReLU-113           [-1, 64, 32, 32]               0\n",
      "      ConvModule-114           [-1, 64, 32, 32]               0\n",
      "          Conv2d-115          [-1, 384, 32, 32]           3,456\n",
      "     BatchNorm2d-116          [-1, 384, 32, 32]             768\n",
      "            ReLU-117          [-1, 384, 32, 32]               0\n",
      "      ConvModule-118          [-1, 384, 32, 32]               0\n",
      "          Conv2d-119           [-1, 64, 32, 32]          24,576\n",
      "     BatchNorm2d-120           [-1, 64, 32, 32]             128\n",
      "      ConvModule-121           [-1, 64, 32, 32]               0\n",
      "            ReLU-122           [-1, 64, 32, 32]               0\n",
      "         GELayer-123           [-1, 64, 32, 32]               0\n",
      "          Conv2d-124           [-1, 64, 32, 32]          36,864\n",
      "     BatchNorm2d-125           [-1, 64, 32, 32]             128\n",
      "            ReLU-126           [-1, 64, 32, 32]               0\n",
      "      ConvModule-127           [-1, 64, 32, 32]               0\n",
      "          Conv2d-128          [-1, 384, 16, 16]           3,456\n",
      "     BatchNorm2d-129          [-1, 384, 16, 16]             768\n",
      "      ConvModule-130          [-1, 384, 16, 16]               0\n",
      "          Conv2d-131          [-1, 384, 16, 16]           3,456\n",
      "     BatchNorm2d-132          [-1, 384, 16, 16]             768\n",
      "            ReLU-133          [-1, 384, 16, 16]               0\n",
      "      ConvModule-134          [-1, 384, 16, 16]               0\n",
      "          Conv2d-135           [-1, 96, 16, 16]          36,864\n",
      "     BatchNorm2d-136           [-1, 96, 16, 16]             192\n",
      "      ConvModule-137           [-1, 96, 16, 16]               0\n",
      "          Conv2d-138           [-1, 64, 16, 16]             576\n",
      "     BatchNorm2d-139           [-1, 64, 16, 16]             128\n",
      "      ConvModule-140           [-1, 64, 16, 16]               0\n",
      "          Conv2d-141           [-1, 96, 16, 16]           6,144\n",
      "     BatchNorm2d-142           [-1, 96, 16, 16]             192\n",
      "      ConvModule-143           [-1, 96, 16, 16]               0\n",
      "DepthwiseSeparableConvModule-144           [-1, 96, 16, 16]               0\n",
      "            ReLU-145           [-1, 96, 16, 16]               0\n",
      "         GELayer-146           [-1, 96, 16, 16]               0\n",
      "          Conv2d-147           [-1, 96, 16, 16]          82,944\n",
      "     BatchNorm2d-148           [-1, 96, 16, 16]             192\n",
      "            ReLU-149           [-1, 96, 16, 16]               0\n",
      "      ConvModule-150           [-1, 96, 16, 16]               0\n",
      "          Conv2d-151          [-1, 576, 16, 16]           5,184\n",
      "     BatchNorm2d-152          [-1, 576, 16, 16]           1,152\n",
      "            ReLU-153          [-1, 576, 16, 16]               0\n",
      "      ConvModule-154          [-1, 576, 16, 16]               0\n",
      "          Conv2d-155           [-1, 96, 16, 16]          55,296\n",
      "     BatchNorm2d-156           [-1, 96, 16, 16]             192\n",
      "      ConvModule-157           [-1, 96, 16, 16]               0\n",
      "            ReLU-158           [-1, 96, 16, 16]               0\n",
      "         GELayer-159           [-1, 96, 16, 16]               0\n",
      "          Conv2d-160           [-1, 96, 16, 16]          82,944\n",
      "     BatchNorm2d-161           [-1, 96, 16, 16]             192\n",
      "            ReLU-162           [-1, 96, 16, 16]               0\n",
      "      ConvModule-163           [-1, 96, 16, 16]               0\n",
      "          Conv2d-164          [-1, 576, 16, 16]           5,184\n",
      "     BatchNorm2d-165          [-1, 576, 16, 16]           1,152\n",
      "            ReLU-166          [-1, 576, 16, 16]               0\n",
      "      ConvModule-167          [-1, 576, 16, 16]               0\n",
      "          Conv2d-168           [-1, 96, 16, 16]          55,296\n",
      "     BatchNorm2d-169           [-1, 96, 16, 16]             192\n",
      "      ConvModule-170           [-1, 96, 16, 16]               0\n",
      "            ReLU-171           [-1, 96, 16, 16]               0\n",
      "         GELayer-172           [-1, 96, 16, 16]               0\n",
      "          Conv2d-173           [-1, 96, 16, 16]          82,944\n",
      "     BatchNorm2d-174           [-1, 96, 16, 16]             192\n",
      "            ReLU-175           [-1, 96, 16, 16]               0\n",
      "      ConvModule-176           [-1, 96, 16, 16]               0\n",
      "          Conv2d-177          [-1, 576, 16, 16]           5,184\n",
      "     BatchNorm2d-178          [-1, 576, 16, 16]           1,152\n",
      "            ReLU-179          [-1, 576, 16, 16]               0\n",
      "      ConvModule-180          [-1, 576, 16, 16]               0\n",
      "          Conv2d-181           [-1, 96, 16, 16]          55,296\n",
      "     BatchNorm2d-182           [-1, 96, 16, 16]             192\n",
      "      ConvModule-183           [-1, 96, 16, 16]               0\n",
      "            ReLU-184           [-1, 96, 16, 16]               0\n",
      "         GELayer-185           [-1, 96, 16, 16]               0\n",
      "AdaptiveAvgPool2d-186             [-1, 96, 1, 1]               0\n",
      "     BatchNorm2d-187             [-1, 96, 1, 1]             192\n",
      "          Conv2d-188             [-1, 96, 1, 1]           9,216\n",
      "     BatchNorm2d-189             [-1, 96, 1, 1]             192\n",
      "            ReLU-190             [-1, 96, 1, 1]               0\n",
      "      ConvModule-191             [-1, 96, 1, 1]               0\n",
      "          Conv2d-192           [-1, 96, 16, 16]          82,944\n",
      "     BatchNorm2d-193           [-1, 96, 16, 16]             192\n",
      "            ReLU-194           [-1, 96, 16, 16]               0\n",
      "      ConvModule-195           [-1, 96, 16, 16]               0\n",
      "         CEBlock-196           [-1, 96, 16, 16]               0\n",
      "  SemanticBranch-197  [[-1, 16, 128, 128], [-1, 32, 64, 64], [-1, 64, 32, 32], [-1, 96, 16, 16], [-1, 96, 16, 16]]               0\n",
      "          Conv2d-198           [-1, 96, 64, 64]             864\n",
      "     BatchNorm2d-199           [-1, 96, 64, 64]             192\n",
      "      ConvModule-200           [-1, 96, 64, 64]               0\n",
      "          Conv2d-201           [-1, 96, 64, 64]           9,312\n",
      "      ConvModule-202           [-1, 96, 64, 64]               0\n",
      "DepthwiseSeparableConvModule-203           [-1, 96, 64, 64]               0\n",
      "          Conv2d-204           [-1, 96, 32, 32]          82,944\n",
      "     BatchNorm2d-205           [-1, 96, 32, 32]             192\n",
      "      ConvModule-206           [-1, 96, 32, 32]               0\n",
      "       AvgPool2d-207           [-1, 96, 16, 16]               0\n",
      "          Conv2d-208           [-1, 96, 16, 16]          82,944\n",
      "     BatchNorm2d-209           [-1, 96, 16, 16]             192\n",
      "      ConvModule-210           [-1, 96, 16, 16]               0\n",
      "          Conv2d-211           [-1, 96, 16, 16]             864\n",
      "     BatchNorm2d-212           [-1, 96, 16, 16]             192\n",
      "      ConvModule-213           [-1, 96, 16, 16]               0\n",
      "          Conv2d-214           [-1, 96, 16, 16]           9,312\n",
      "      ConvModule-215           [-1, 96, 16, 16]               0\n",
      "DepthwiseSeparableConvModule-216           [-1, 96, 16, 16]               0\n",
      "          Conv2d-217           [-1, 96, 64, 64]          82,944\n",
      "     BatchNorm2d-218           [-1, 96, 64, 64]             192\n",
      "            ReLU-219           [-1, 96, 64, 64]               0\n",
      "      ConvModule-220           [-1, 96, 64, 64]               0\n",
      "        BGALayer-221           [-1, 96, 64, 64]               0\n",
      "       BiSeNetV2-222  [[-1, 96, 64, 64], [-1, 16, 128, 128], [-1, 32, 64, 64], [-1, 64, 32, 32], [-1, 96, 16, 16]]               0\n",
      "          Conv2d-223          [-1, 512, 64, 64]         442,368\n",
      "   SyncBatchNorm-224          [-1, 512, 64, 64]           1,024\n",
      "            ReLU-225          [-1, 512, 64, 64]               0\n",
      "      ConvModule-226          [-1, 512, 64, 64]               0\n",
      "       Dropout2d-227          [-1, 512, 64, 64]               0\n",
      "          Conv2d-228           [-1, 19, 64, 64]           9,747\n",
      "================================================================\n",
      "Total params: 1,791,683\n",
      "Trainable params: 1,791,683\n",
      "Non-trainable params: 0\n",
      "----------------------------------------------------------------\n",
      "Input size (MB): 3.00\n",
      "Forward/backward pass size (MB): 586.29\n",
      "Params size (MB): 6.83\n",
      "Estimated Total Size (MB): 596.12\n",
      "----------------------------------------------------------------\n"
     ]
    }
   ],
   "source": [
    "from torchsummary import summary\n",
    "summary(model, (3, 512, 512), device=\"cuda\")"
   ]
  }
 ],
 "metadata": {
  "kernelspec": {
   "display_name": "base",
   "language": "python",
   "name": "python3"
  },
  "language_info": {
   "codemirror_mode": {
    "name": "ipython",
    "version": 3
   },
   "file_extension": ".py",
   "mimetype": "text/x-python",
   "name": "python",
   "nbconvert_exporter": "python",
   "pygments_lexer": "ipython3",
   "version": "3.7.10"
  }
 },
 "nbformat": 4,
 "nbformat_minor": 2
}
