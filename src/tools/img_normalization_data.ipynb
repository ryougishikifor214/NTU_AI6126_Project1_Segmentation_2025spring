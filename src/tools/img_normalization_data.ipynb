{
 "cells": [
  {
   "cell_type": "code",
   "execution_count": 2,
   "metadata": {},
   "outputs": [],
   "source": [
    "import sys\n",
    "import os\n",
    "sys.path.append(\"..\")"
   ]
  },
  {
   "cell_type": "code",
   "execution_count": 3,
   "metadata": {},
   "outputs": [
    {
     "name": "stderr",
     "output_type": "stream",
     "text": [
      "Processing Images: 100%|██████████| 1000/1000 [00:19<00:00, 51.42it/s]"
     ]
    },
    {
     "name": "stdout",
     "output_type": "stream",
     "text": [
      "Mean (RGB): [130.41405 104.74855  91.30017]\n",
      "Std (RGB): [68.61919 61.35547 59.26969]\n"
     ]
    },
    {
     "name": "stderr",
     "output_type": "stream",
     "text": [
      "\n"
     ]
    }
   ],
   "source": [
    "from global_config import *\n",
    "import os\n",
    "import cv2\n",
    "import numpy as np\n",
    "from tqdm import tqdm\n",
    "\n",
    "def compute_mean_std(image_dir):\n",
    "    \"\"\"\n",
    "    计算文件夹下所有 JPG 图像的 mean 和 std\n",
    "    \"\"\"\n",
    "    image_files = [f for f in os.listdir(image_dir) if f.endswith('.jpg')]\n",
    "    \n",
    "    means = []\n",
    "    stds = []\n",
    "\n",
    "    for img_file in tqdm(image_files, desc=\"Processing Images\"):\n",
    "        img_path = os.path.join(image_dir, img_file)\n",
    "        img = cv2.imread(img_path)  # 读取 BGR 图像\n",
    "        img = img.astype(np.float32)\n",
    "\n",
    "        mean = np.mean(img, axis=(0, 1))  # 计算每个通道的均值\n",
    "        std = np.std(img, axis=(0, 1))    # 计算每个通道的标准差\n",
    "\n",
    "        means.append(mean)\n",
    "        stds.append(std)\n",
    "\n",
    "    # 计算整个数据集的 mean 和 std\n",
    "    means = np.mean(means, axis=0)\n",
    "    stds = np.mean(stds, axis=0)\n",
    "\n",
    "    # OpenCV 读取的是 BGR 格式，转换为 RGB\n",
    "    means = means[::-1]\n",
    "    stds = stds[::-1]\n",
    "\n",
    "    return means, stds\n",
    "\n",
    "# 指定文件夹路径\n",
    "image_dir = ORIGIN_IMG_DIR_PATH # 替换为你的图片文件夹路径\n",
    "mean, std = compute_mean_std(image_dir)\n",
    "\n",
    "print(f\"Mean (RGB): {mean}\")\n",
    "print(f\"Std (RGB): {std}\")\n"
   ]
  }
 ],
 "metadata": {
  "kernelspec": {
   "display_name": "base",
   "language": "python",
   "name": "python3"
  },
  "language_info": {
   "codemirror_mode": {
    "name": "ipython",
    "version": 3
   },
   "file_extension": ".py",
   "mimetype": "text/x-python",
   "name": "python",
   "nbconvert_exporter": "python",
   "pygments_lexer": "ipython3",
   "version": "3.7.10"
  }
 },
 "nbformat": 4,
 "nbformat_minor": 2
}
