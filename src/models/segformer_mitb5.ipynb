{
 "cells": [
  {
   "cell_type": "code",
   "execution_count": 2,
   "metadata": {},
   "outputs": [],
   "source": [
    "import os\n",
    "import sys\n",
    "sys.path.append(\"..\")"
   ]
  },
  {
   "cell_type": "code",
   "execution_count": 3,
   "metadata": {},
   "outputs": [],
   "source": [
    "from mmengine import Config\n",
    "from global_config import *"
   ]
  },
  {
   "cell_type": "markdown",
   "metadata": {},
   "source": [
    "## Modifiable Configuration"
   ]
  },
  {
   "cell_type": "code",
   "execution_count": 4,
   "metadata": {},
   "outputs": [
    {
     "data": {
      "text/plain": [
       "'segformer/segformer_mit-b5_8xb2-160k_ade20k-512x512.py'"
      ]
     },
     "execution_count": 4,
     "metadata": {},
     "output_type": "execute_result"
    }
   ],
   "source": [
    "FINAL_MODEL_CONFIG_DIR = CONFIG_SEGFORMER_MITB5_DIR_PATH\n",
    "WORK_DIR = OUT_SEGFORMER_MITB5_DIR_PATH\n",
    "MODEL_CFG_NAME = \"segformer_mitb5\"\n",
    "mmseg_model_cfg_suffix_path = \"segformer/segformer_mit-b5_8xb2-160k_ade20k-512x512.py\"\n",
    "# mmseg_model_cfg_path = Path(MMSEG_MODEL_CONFIG_DIR_PATH)/Path(mmseg_model_cfg_subdir)\n",
    "mmseg_model_cfg_suffix_path"
   ]
  },
  {
   "cell_type": "code",
   "execution_count": 5,
   "metadata": {},
   "outputs": [
    {
     "name": "stdout",
     "output_type": "stream",
     "text": [
      "/home/featurize/work/AI6126project1/mmsegmentation/configs/segformer/segformer_mit-b5_8xb2-160k_ade20k-512x512.py\n"
     ]
    }
   ],
   "source": [
    "mmseg_model_cfg_path = os.path.join(MMSEG_MODEL_CONFIG_DIR_PATH, mmseg_model_cfg_suffix_path)\n",
    "print(mmseg_model_cfg_path)\n",
    "\n",
    "cfg = Config.fromfile(mmseg_model_cfg_path)\n",
    "celeba_pipeline_cfg = Config.fromfile(CELEBA_PIPELINE_PATH)\n",
    "cfg.merge_from_dict(celeba_pipeline_cfg)\n"
   ]
  },
  {
   "cell_type": "code",
   "execution_count": 6,
   "metadata": {},
   "outputs": [],
   "source": [
    "# Modifiable\n",
    "cfg.data_preprocessor = DATA_PREPROCESSOR\n",
    "cfg.model.data_preprocessor = DATA_PREPROCESSOR\n",
    "\n",
    "cfg.norm_cfg = NORM_CFG \n",
    "\n",
    "cfg.model.decode_head.norm_cfg = NORM_CFG\n",
    "cfg.model.decode_head.num_classes = NUM_CLASS\n",
    "\n",
    "\n",
    "cfg.work_dir = WORK_DIR\n",
    "\n",
    "cfg.train_dataloader.batch_size = 4\n",
    "cfg.train_cfg.max_iters = 24000\n",
    "cfg.train_cfg.val_interval = 500\n",
    "cfg.default_hooks.logger.interval = 100 \n",
    "cfg.default_hooks.checkpoint.interval = 500\n",
    "cfg.default_hooks.checkpoint.max_keep_ckpts = 2\n",
    "cfg.default_hooks.checkpoint.save_best = 'mIoU'\n",
    "cfg.default_hooks.checkpoint.rule = \"greater\"\n",
    "\n",
    "cfg['randomness'] = dict(seed=0)\n"
   ]
  },
  {
   "cell_type": "code",
   "execution_count": 7,
   "metadata": {},
   "outputs": [],
   "source": [
    "cfg.model.decode_head.loss_decode = weighted_cross_lovasz_loss_decode\n",
    "# cfg.model.auxiliary_head = mitb5_fcn_auxiliary_head"
   ]
  },
  {
   "cell_type": "code",
   "execution_count": 8,
   "metadata": {},
   "outputs": [],
   "source": [
    "cfg.optimizer = dict(lr=0.0075, momentum=0.9, weight_decay=0.001, type='SGD')\n",
    "#cfg.optim_wrapper = dict(type='OptimWrapper', optimizer=cfg.optimizer)\n",
    "cfg.param_scheduler = [\n",
    "    dict(begin=0, by_epoch=False, end=1000, start_factor=0.1, type='LinearLR'), \n",
    "    dict(\n",
    "        begin=1000,\n",
    "        by_epoch=False,\n",
    "        end=cfg.train_cfg.max_iters,   \n",
    "        eta_min=5e-5,  \n",
    "        power=0.95,\n",
    "        type='PolyLR'),\n",
    "]"
   ]
  },
  {
   "cell_type": "code",
   "execution_count": 9,
   "metadata": {},
   "outputs": [],
   "source": [
    "#print(mmseg_model_cfg.pretty_text)"
   ]
  },
  {
   "cell_type": "code",
   "execution_count": 10,
   "metadata": {},
   "outputs": [
    {
     "data": {
      "text/plain": [
       "'/home/featurize/work/AI6126project1/assets/model_configs/segformer_mit-b5/celeba_segformer_mitb5_20250327.py'"
      ]
     },
     "execution_count": 10,
     "metadata": {},
     "output_type": "execute_result"
    }
   ],
   "source": [
    "from datetime import datetime\n",
    "ymd_timestamp = datetime.now().strftime(\"%Y%m%d\")\n",
    "cfg.dump(os.path.join(FINAL_MODEL_CONFIG_DIR, f\"celeba_{MODEL_CFG_NAME}_{ymd_timestamp}.py\"))\n",
    "os.path.join(FINAL_MODEL_CONFIG_DIR, f\"celeba_{MODEL_CFG_NAME}_{ymd_timestamp}.py\")"
   ]
  }
 ],
 "metadata": {
  "kernelspec": {
   "display_name": "base",
   "language": "python",
   "name": "python3"
  },
  "language_info": {
   "codemirror_mode": {
    "name": "ipython",
    "version": 3
   },
   "file_extension": ".py",
   "mimetype": "text/x-python",
   "name": "python",
   "nbconvert_exporter": "python",
   "pygments_lexer": "ipython3",
   "version": "3.7.10"
  }
 },
 "nbformat": 4,
 "nbformat_minor": 2
}
