{
 "cells": [
  {
   "cell_type": "code",
   "execution_count": 10,
   "metadata": {},
   "outputs": [],
   "source": [
    "import os\n",
    "import sys\n",
    "sys.path.append(\"..\")"
   ]
  },
  {
   "cell_type": "code",
   "execution_count": 11,
   "metadata": {},
   "outputs": [],
   "source": [
    "from mmengine import Config\n",
    "from global_config import *"
   ]
  },
  {
   "cell_type": "markdown",
   "metadata": {},
   "source": [
    "## Modifiable Configuration"
   ]
  },
  {
   "cell_type": "code",
   "execution_count": 12,
   "metadata": {},
   "outputs": [
    {
     "data": {
      "text/plain": [
       "'mobilenet_v3/mobilenet-v3-d8-s_lraspp_4xb4-320k_cityscapes-512x1024.py'"
      ]
     },
     "execution_count": 12,
     "metadata": {},
     "output_type": "execute_result"
    }
   ],
   "source": [
    "FINAL_MODEL_CONFIG_DIR = CONFIG_MOBILENETV3_LSRAPP_DIR_PATH\n",
    "WORK_DIR = OUT_MOBILENETV3_LSRAPP_DIR_PATH\n",
    "MODEL_CFG_NAME = \"mobilenetv3_lsrapp\"\n",
    "mmseg_model_cfg_suffix_path = \"mobilenet_v3/mobilenet-v3-d8-s_lraspp_4xb4-320k_cityscapes-512x1024.py\"\n",
    "# mmseg_model_cfg_path = Path(MMSEG_MODEL_CONFIG_DIR_PATH)/Path(mmseg_model_cfg_subdir)\n",
    "mmseg_model_cfg_suffix_path"
   ]
  },
  {
   "cell_type": "code",
   "execution_count": 13,
   "metadata": {},
   "outputs": [
    {
     "name": "stdout",
     "output_type": "stream",
     "text": [
      "/home/featurize/work/AI6126project1/mmsegmentation/configs/mobilenet_v3/mobilenet-v3-d8-s_lraspp_4xb4-320k_cityscapes-512x1024.py\n"
     ]
    }
   ],
   "source": [
    "mmseg_model_cfg_path = os.path.join(MMSEG_MODEL_CONFIG_DIR_PATH, mmseg_model_cfg_suffix_path)\n",
    "print(mmseg_model_cfg_path)\n",
    "\n",
    "cfg = Config.fromfile(mmseg_model_cfg_path)\n",
    "celeba_pipeline_cfg = Config.fromfile(CELEBA_PIPELINE_PATH)\n",
    "cfg.merge_from_dict(celeba_pipeline_cfg)\n"
   ]
  },
  {
   "cell_type": "code",
   "execution_count": null,
   "metadata": {},
   "outputs": [],
   "source": [
    "# Modifiable\n",
    "cfg.norm_cfg = NORM_CFG \n",
    "cfg.data_preprocessor = DATA_PREPROCESSOR\n",
    "cfg.model.data_preprocessor = DATA_PREPROCESSOR\n",
    "\n",
    "cfg.model.backbone.norm_cfg = NORM_CFG\n",
    "cfg.model.decode_head.norm_cfg = NORM_CFG\n",
    "cfg.model.decode_head.num_classes = NUM_CLASS\n",
    "\n",
    "cfg.train_dataloader.batch_size = 8\n",
    "cfg.work_dir = WORK_DIR\n",
    "\n",
    "cfg.train_cfg.max_iters = 16000\n",
    "cfg.train_cfg.val_interval = 500 \n",
    "cfg.default_hooks.logger.interval = 100 \n",
    "cfg.default_hooks.checkpoint.interval = 500\n",
    "cfg.default_hooks.checkpoint.max_keep_ckpts = 3 \n",
    "cfg.default_hooks.checkpoint.save_best = 'mFscore'\n",
    "cfg.default_hooks.checkpoint.rule = \"greater\"\n",
    "\n",
    "cfg['randomness'] = dict(seed=0)\n"
   ]
  },
  {
   "cell_type": "code",
   "execution_count": 15,
   "metadata": {},
   "outputs": [],
   "source": [
    "cfg.model.decode_head.loss_decode = weighted_CE_lovasz_dice_loss_decode"
   ]
  },
  {
   "cell_type": "code",
   "execution_count": 16,
   "metadata": {},
   "outputs": [],
   "source": [
    "cfg.model.backbone.out_indices = (0, 1, 2, 12)\n",
    "cfg.model.decode_head.in_index = (0, 1, 3)\n",
    "cfg.model.auxiliary_head =  mobilenetv3_fcn_auxiliary_head"
   ]
  },
  {
   "cell_type": "code",
   "execution_count": 17,
   "metadata": {},
   "outputs": [],
   "source": [
    "#print(mmseg_model_cfg.pretty_text)"
   ]
  },
  {
   "cell_type": "code",
   "execution_count": 18,
   "metadata": {},
   "outputs": [
    {
     "data": {
      "text/plain": [
       "'/home/featurize/work/AI6126project1/assets/model_configs/mobilenetv3_lraspp/celeba_mobilenetv3_lsrapp_20250325.py'"
      ]
     },
     "execution_count": 18,
     "metadata": {},
     "output_type": "execute_result"
    }
   ],
   "source": [
    "from datetime import datetime\n",
    "ymd_timestamp = datetime.now().strftime(\"%Y%m%d\")\n",
    "cfg.dump(os.path.join(FINAL_MODEL_CONFIG_DIR, f\"celeba_{MODEL_CFG_NAME}_{ymd_timestamp}.py\"))\n",
    "os.path.join(FINAL_MODEL_CONFIG_DIR, f\"celeba_{MODEL_CFG_NAME}_{ymd_timestamp}.py\")"
   ]
  }
 ],
 "metadata": {
  "kernelspec": {
   "display_name": "base",
   "language": "python",
   "name": "python3"
  },
  "language_info": {
   "codemirror_mode": {
    "name": "ipython",
    "version": 3
   },
   "file_extension": ".py",
   "mimetype": "text/x-python",
   "name": "python",
   "nbconvert_exporter": "python",
   "pygments_lexer": "ipython3",
   "version": "3.7.10"
  }
 },
 "nbformat": 4,
 "nbformat_minor": 2
}
