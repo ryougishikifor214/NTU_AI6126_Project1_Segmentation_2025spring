{
 "cells": [
  {
   "cell_type": "code",
   "execution_count": 1,
   "metadata": {},
   "outputs": [],
   "source": [
    "import os\n",
    "import sys\n",
    "sys.path.append(\"..\")"
   ]
  },
  {
   "cell_type": "code",
   "execution_count": 2,
   "metadata": {},
   "outputs": [],
   "source": [
    "from mmengine import Config\n",
    "from global_config import *"
   ]
  },
  {
   "cell_type": "markdown",
   "metadata": {},
   "source": [
    "## Modifiable Configuration"
   ]
  },
  {
   "cell_type": "code",
   "execution_count": 3,
   "metadata": {},
   "outputs": [
    {
     "data": {
      "text/plain": [
       "'fastscnn/fast_scnn_8xb4-160k_cityscapes-512x1024.py'"
      ]
     },
     "execution_count": 3,
     "metadata": {},
     "output_type": "execute_result"
    }
   ],
   "source": [
    "FINAL_MODEL_CONFIG_DIR = CONFIG_FASTSCNN_DIR_PATH\n",
    "WORK_DIR = OUT_FASTSCNN_DIR_PATH\n",
    "MODEL_CFG_NAME = \"fastscnn\"\n",
    "mmseg_model_cfg_suffix_path = \"fastscnn/fast_scnn_8xb4-160k_cityscapes-512x1024.py\"\n",
    "# mmseg_model_cfg_path = Path(MMSEG_MODEL_CONFIG_DIR_PATH)/Path(mmseg_model_cfg_subdir)\n",
    "mmseg_model_cfg_suffix_path"
   ]
  },
  {
   "cell_type": "code",
   "execution_count": 4,
   "metadata": {},
   "outputs": [
    {
     "name": "stdout",
     "output_type": "stream",
     "text": [
      "/home/featurize/work/AI6126project1/mmsegmentation/configs/fastscnn/fast_scnn_8xb4-160k_cityscapes-512x1024.py\n"
     ]
    }
   ],
   "source": [
    "mmseg_model_cfg_path = os.path.join(MMSEG_MODEL_CONFIG_DIR_PATH, mmseg_model_cfg_suffix_path)\n",
    "print(mmseg_model_cfg_path)\n",
    "\n",
    "cfg = Config.fromfile(mmseg_model_cfg_path)\n",
    "celeba_pipeline_cfg = Config.fromfile(CELEBA_PIPELINE_PATH)\n",
    "cfg.merge_from_dict(celeba_pipeline_cfg)\n"
   ]
  },
  {
   "cell_type": "code",
   "execution_count": null,
   "metadata": {},
   "outputs": [],
   "source": [
    "# Modifiable\n",
    "cfg.model.backbone.norm_cfg = NORM_CFG\n",
    "cfg.norm_cfg = NORM_CFG \n",
    "cfg.data_preprocessor = DATA_PREPROCESSOR\n",
    "cfg.model.data_preprocessor = DATA_PREPROCESSOR\n",
    "\n",
    "cfg.model.decode_head.norm_cfg = NORM_CFG\n",
    "cfg.model.decode_head.num_classes = NUM_CLASS\n",
    "cfg.model.auxiliary_head[0].norm_cfg = NORM_CFG\n",
    "cfg.model.auxiliary_head[0].num_classes = NUM_CLASS\n",
    "cfg.model.auxiliary_head[1].norm_cfg = NORM_CFG\n",
    "cfg.model.auxiliary_head[1].num_classes = NUM_CLASS\n",
    "\n",
    "cfg.work_dir = WORK_DIR\n",
    "\n",
    "cfg.train_dataloader.batch_size = 8\n",
    "\n",
    "cfg.train_cfg.max_iters = 4000\n",
    "cfg.train_cfg.val_interval = 500 \n",
    "cfg.default_hooks.logger.interval = 100 \n",
    "cfg.default_hooks.checkpoint.interval = 500\n",
    "cfg.default_hooks.checkpoint.max_keep_ckpts = 3 \n",
    "cfg.default_hooks.checkpoint.save_best = 'mFscore'\n",
    "cfg.default_hooks.checkpoint.rule = \"greater\"\n",
    "\n",
    "cfg['randomness'] = dict(seed=0)\n"
   ]
  },
  {
   "cell_type": "code",
   "execution_count": 6,
   "metadata": {},
   "outputs": [],
   "source": [
    "cfg.model.decode_head.loss_decode = weighted_CE_lovasz_dice_loss_decode\n",
    "cfg.model.auxiliary_head[0].loss_decode = weighted_CE_lovasz_dice_loss_decode_auxiliary\n",
    "cfg.model.auxiliary_head[1].loss_decode = weighted_CE_lovasz_dice_loss_decode_auxiliary"
   ]
  },
  {
   "cell_type": "code",
   "execution_count": 7,
   "metadata": {},
   "outputs": [],
   "source": [
    "# cfg.model.decode_head.loss_decode = weighted_CE_dice_loss_decode\n",
    "# cfg.model.auxiliary_head[0].loss_decode = weighted_CE_dice_loss_decode_auxiliary\n",
    "# cfg.model.auxiliary_head[1].loss_decode = weighted_CE_dice_loss_decode_auxiliary"
   ]
  },
  {
   "cell_type": "code",
   "execution_count": 8,
   "metadata": {},
   "outputs": [],
   "source": [
    "# cfg.model.decode_head.loss_decode = weighted_cross_lovasz_loss_decode\n",
    "# cfg.model.auxiliary_head[0].loss_decode = weighted_cross_lovasz_loss_decode_auxilary\n",
    "# cfg.model.auxiliary_head[1].loss_decode = weighted_cross_lovasz_loss_decode_auxilary"
   ]
  },
  {
   "cell_type": "code",
   "execution_count": 9,
   "metadata": {},
   "outputs": [],
   "source": [
    "## cfg.optim_wrapper.optimizer.weight_decay = 5e-4\n",
    "## cfg.optimizer.weight_decay = 5e-4\n",
    "cfg.model.auxiliary_head[0].loss_decode[0].loss_weight *= 0.5\n",
    "cfg.model.auxiliary_head[0].loss_decode[1].loss_weight *= 0.5\n",
    "cfg.model.auxiliary_head[0].loss_decode[2].loss_weight *= 0.5\n",
    "cfg.model.auxiliary_head[1].loss_decode[0].loss_weight *= 0.5\n",
    "cfg.model.auxiliary_head[1].loss_decode[1].loss_weight *= 0.5\n",
    "cfg.model.auxiliary_head[1].loss_decode[2].loss_weight *= 0.5"
   ]
  },
  {
   "cell_type": "code",
   "execution_count": 10,
   "metadata": {},
   "outputs": [],
   "source": [
    "#print(mmseg_model_cfg.pretty_text)"
   ]
  },
  {
   "cell_type": "code",
   "execution_count": 11,
   "metadata": {},
   "outputs": [
    {
     "data": {
      "text/plain": [
       "'/home/featurize/work/AI6126project1/assets/model_configs/fastscnn/celeba_fastscnn_20250325.py'"
      ]
     },
     "execution_count": 11,
     "metadata": {},
     "output_type": "execute_result"
    }
   ],
   "source": [
    "from datetime import datetime\n",
    "ymd_timestamp = datetime.now().strftime(\"%Y%m%d\")\n",
    "cfg.dump(os.path.join(FINAL_MODEL_CONFIG_DIR, f\"celeba_{MODEL_CFG_NAME}_{ymd_timestamp}.py\"))\n",
    "os.path.join(FINAL_MODEL_CONFIG_DIR, f\"celeba_{MODEL_CFG_NAME}_{ymd_timestamp}.py\")"
   ]
  }
 ],
 "metadata": {
  "kernelspec": {
   "display_name": "base",
   "language": "python",
   "name": "python3"
  },
  "language_info": {
   "codemirror_mode": {
    "name": "ipython",
    "version": 3
   },
   "file_extension": ".py",
   "mimetype": "text/x-python",
   "name": "python",
   "nbconvert_exporter": "python",
   "pygments_lexer": "ipython3",
   "version": "3.7.10"
  }
 },
 "nbformat": 4,
 "nbformat_minor": 2
}
