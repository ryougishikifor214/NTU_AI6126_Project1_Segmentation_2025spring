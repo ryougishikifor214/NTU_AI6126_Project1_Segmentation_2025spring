{
 "cells": [
  {
   "cell_type": "code",
   "execution_count": 22,
   "metadata": {},
   "outputs": [],
   "source": [
    "import os\n",
    "import shutil\n",
    "import random\n",
    "from tqdm import tqdm\n",
    "\n",
    "import logging\n",
    "logging.basicConfig(level=logging.INFO)"
   ]
  },
  {
   "cell_type": "code",
   "execution_count": 23,
   "metadata": {},
   "outputs": [],
   "source": [
    "from global_config import DATASET_DIR_PATH, ORIGIN_IMG_DIR_PATH, ORIGIN_ANNO_DIR_PATH,\\\n",
    "    IMG_DIR_PATH, ANNO_DIR_PATH,\\\n",
    "    IMG_TRAIN_DIR_PATH, ANNO_TRAIN_DIR_PATH, IMG_VAL_DIR_PATH, ANNO_VAL_DIR_PATH"
   ]
  },
  {
   "cell_type": "code",
   "execution_count": 24,
   "metadata": {},
   "outputs": [],
   "source": [
    "DIRS = [\n",
    "    IMG_TRAIN_DIR_PATH,\n",
    "    ANNO_TRAIN_DIR_PATH,\n",
    "    IMG_VAL_DIR_PATH,\n",
    "    ANNO_VAL_DIR_PATH\n",
    "]"
   ]
  },
  {
   "cell_type": "code",
   "execution_count": 25,
   "metadata": {},
   "outputs": [],
   "source": [
    "for dir_ in DIRS:\n",
    "    shutil.rmtree(dir_, ignore_errors=True)"
   ]
  },
  {
   "cell_type": "code",
   "execution_count": 26,
   "metadata": {},
   "outputs": [],
   "source": [
    "if all(os.path.exists(d) for d in DIRS):\n",
    "    logging.critical(\"Follow the dataset configuration from the previous training\")\n",
    "    exit(0)\n",
    "else:\n",
    "    for d in DIRS:\n",
    "        os.makedirs(d)"
   ]
  },
  {
   "cell_type": "markdown",
   "metadata": {},
   "source": [
    "## Split train and validation datasets"
   ]
  },
  {
   "cell_type": "code",
   "execution_count": 27,
   "metadata": {},
   "outputs": [
    {
     "name": "stderr",
     "output_type": "stream",
     "text": [
      "INFO:root:Start splitting train and validation datasets\n"
     ]
    },
    {
     "data": {
      "text/plain": [
       "(1000,\n",
       " ['c73231653c8c43b19565757ec495dba1.jpg',\n",
       "  '85e26c7dea8245d0971c66b5385c0733.jpg',\n",
       "  'e5312db3d9a54d499f18dbc80c049298.jpg',\n",
       "  'ecafb678fe744d43a2e38e789d1e7efb.jpg',\n",
       "  '09d3c22bd1ed45f29bd4b5ca5d025b6d.jpg',\n",
       "  '803d3d8e202748bbac790ddd25ff2f07.jpg',\n",
       "  '162c3e6540ef4302bdf4722747336aa6.jpg',\n",
       "  'c14d9f490e4146b3a60e68f24a697741.jpg',\n",
       "  '60c3133016134029afb08c63e14b4d76.jpg',\n",
       "  '88b87d143d1647b98dd84ea8e7a0b706.jpg'])"
      ]
     },
     "execution_count": 27,
     "metadata": {},
     "output_type": "execute_result"
    }
   ],
   "source": [
    "logging.info(\"Start splitting train and validation datasets\")\n",
    "img_files = [f for f in os.listdir(ORIGIN_IMG_DIR_PATH) if f.endswith(\".jpg\")]\n",
    "img_files.sort()\n",
    "random.seed(42)\n",
    "random.shuffle(img_files)\n",
    "len(img_files),img_files[:10]"
   ]
  },
  {
   "cell_type": "code",
   "execution_count": 28,
   "metadata": {},
   "outputs": [
    {
     "data": {
      "text/plain": [
       "(800, 200)"
      ]
     },
     "execution_count": 28,
     "metadata": {},
     "output_type": "execute_result"
    }
   ],
   "source": [
    "val_frac = 0.2\n",
    "num_train = int(len(img_files)*(1-val_frac))\n",
    "train_img_files = img_files[:num_train]\n",
    "val_img_files = img_files[num_train:]\n",
    "len(train_img_files), len(val_img_files)"
   ]
  },
  {
   "cell_type": "code",
   "execution_count": 29,
   "metadata": {},
   "outputs": [],
   "source": [
    "for file in train_img_files:\n",
    "    shutil.copy(os.path.join(ORIGIN_IMG_DIR_PATH, file), os.path.join(IMG_TRAIN_DIR_PATH, file))\n",
    "    \n",
    "    anno_file = file.replace(\".jpg\", \".png\")\n",
    "    shutil.copy(os.path.join(ORIGIN_ANNO_DIR_PATH, anno_file), os.path.join(ANNO_TRAIN_DIR_PATH, anno_file))"
   ]
  },
  {
   "cell_type": "code",
   "execution_count": 30,
   "metadata": {},
   "outputs": [
    {
     "data": {
      "text/plain": [
       "(800, 800)"
      ]
     },
     "execution_count": 30,
     "metadata": {},
     "output_type": "execute_result"
    }
   ],
   "source": [
    "len(os.listdir(IMG_TRAIN_DIR_PATH)), len(os.listdir(ANNO_TRAIN_DIR_PATH))"
   ]
  },
  {
   "cell_type": "code",
   "execution_count": 31,
   "metadata": {},
   "outputs": [],
   "source": [
    "for file in val_img_files:\n",
    "    shutil.copy(os.path.join(ORIGIN_IMG_DIR_PATH, file), os.path.join(IMG_VAL_DIR_PATH, file))\n",
    "    \n",
    "    anno_file = file.replace(\".jpg\", \".png\")\n",
    "    shutil.copy(os.path.join(ORIGIN_ANNO_DIR_PATH, anno_file), os.path.join(ANNO_VAL_DIR_PATH, anno_file))"
   ]
  },
  {
   "cell_type": "code",
   "execution_count": 32,
   "metadata": {},
   "outputs": [
    {
     "data": {
      "text/plain": [
       "(200, 200)"
      ]
     },
     "execution_count": 32,
     "metadata": {},
     "output_type": "execute_result"
    }
   ],
   "source": [
    "len(os.listdir(IMG_VAL_DIR_PATH)), len(os.listdir(ANNO_VAL_DIR_PATH))"
   ]
  },
  {
   "cell_type": "markdown",
   "metadata": {},
   "source": [
    "## Delete Redundant files which may disturb "
   ]
  },
  {
   "cell_type": "code",
   "execution_count": 33,
   "metadata": {},
   "outputs": [
    {
     "data": {
      "text/plain": [
       "'/home/featurize/work/AI6126project1/dev-public-fixed'"
      ]
     },
     "execution_count": 33,
     "metadata": {},
     "output_type": "execute_result"
    }
   ],
   "source": [
    "os.chdir(DATASET_DIR_PATH)\n",
    "os.getcwd()"
   ]
  },
  {
   "cell_type": "code",
   "execution_count": 34,
   "metadata": {},
   "outputs": [],
   "source": [
    "!find . -iname '__MACOSX'"
   ]
  },
  {
   "cell_type": "code",
   "execution_count": 35,
   "metadata": {},
   "outputs": [],
   "source": [
    "!find . -iname '.DS_Store'"
   ]
  },
  {
   "cell_type": "code",
   "execution_count": 36,
   "metadata": {},
   "outputs": [],
   "source": [
    "!find . -iname '.ipynb_checkpoints'"
   ]
  },
  {
   "cell_type": "code",
   "execution_count": 37,
   "metadata": {},
   "outputs": [],
   "source": [
    "!for i in `find . -iname '__MACOSX'`; do rm -rf $i;done"
   ]
  },
  {
   "cell_type": "code",
   "execution_count": 38,
   "metadata": {},
   "outputs": [],
   "source": [
    "!for i in `find . -iname '.DS_Store'`; do rm -rf $i;done"
   ]
  },
  {
   "cell_type": "code",
   "execution_count": 39,
   "metadata": {},
   "outputs": [],
   "source": [
    "!for i in `find . -iname '.ipynb_checkpoints'`; do rm -rf $i;done"
   ]
  },
  {
   "cell_type": "code",
   "execution_count": 40,
   "metadata": {},
   "outputs": [],
   "source": [
    "!find . -iname '__MACOSX'"
   ]
  },
  {
   "cell_type": "code",
   "execution_count": 41,
   "metadata": {},
   "outputs": [],
   "source": [
    "!find . -iname '.DS_Store'"
   ]
  },
  {
   "cell_type": "code",
   "execution_count": 42,
   "metadata": {},
   "outputs": [],
   "source": [
    "!find . -iname '.ipynb_checkpoints'"
   ]
  }
 ],
 "metadata": {
  "kernelspec": {
   "display_name": "base",
   "language": "python",
   "name": "python3"
  },
  "language_info": {
   "codemirror_mode": {
    "name": "ipython",
    "version": 3
   },
   "file_extension": ".py",
   "mimetype": "text/x-python",
   "name": "python",
   "nbconvert_exporter": "python",
   "pygments_lexer": "ipython3",
   "version": "3.7.10"
  }
 },
 "nbformat": 4,
 "nbformat_minor": 2
}
